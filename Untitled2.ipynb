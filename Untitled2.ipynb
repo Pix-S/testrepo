{
  "metadata": {
    "language_info": {
      "codemirror_mode": {
        "name": "python",
        "version": 3
      },
      "file_extension": ".py",
      "mimetype": "text/x-python",
      "name": "python",
      "nbconvert_exporter": "python",
      "pygments_lexer": "ipython3",
      "version": "3.8"
    },
    "kernelspec": {
      "name": "python",
      "display_name": "Pyolite",
      "language": "python"
    }
  },
  "nbformat_minor": 4,
  "nbformat": 4,
  "cells": [
    {
      "cell_type": "markdown",
      "source": "#My Jupyter Notebook on IBM Watson Studio",
      "metadata": {}
    },
    {
      "cell_type": "markdown",
      "source": "**Zarina**\nData Scientist",
      "metadata": {}
    },
    {
      "cell_type": "markdown",
      "source": "*I am interested in data science because it is fun!*",
      "metadata": {}
    },
    {
      "cell_type": "markdown",
      "source": "###My code is supposed to add two numbers",
      "metadata": {}
    },
    {
      "cell_type": "code",
      "source": "print (\"1+1\")",
      "metadata": {
        "trusted": true
      },
      "execution_count": 2,
      "outputs": [
        {
          "name": "stdout",
          "text": "1+1\n",
          "output_type": "stream"
        }
      ]
    },
    {
      "cell_type": "markdown",
      "source": "[Google](https://www.google.com)",
      "metadata": {}
    },
    {
      "cell_type": "code",
      "source": ">This is the fr",
      "metadata": {},
      "execution_count": null,
      "outputs": []
    }
  ]
}